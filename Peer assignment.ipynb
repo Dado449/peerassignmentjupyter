{
 "cells": [
  {
   "cell_type": "markdown",
   "metadata": {},
   "source": [
    "<center>\n",
    "    <img src=\"https://cf-courses-data.s3.us.cloud-object-storage.appdomain.cloud/IBMDeveloperSkillsNetwork-DS0105EN-SkillsNetwork/labs/Module2/images/SN_web_lightmode.png\" width=\"300\" alt=\"cognitiveclass.ai logo\"  />\n",
    "</center>\n"
   ]
  },
  {
   "cell_type": "markdown",
   "metadata": {
    "tags": []
   },
   "source": [
    "#### Add your code below following the instructions given in the course\n"
   ]
  },
  {
   "cell_type": "markdown",
   "metadata": {},
   "source": [
    "## <h1> My jupyter notebook on IBM watson studio </h1>"
   ]
  },
  {
   "cell_type": "markdown",
   "metadata": {},
   "source": [
    "## <b> Dado kro </b>\n",
    "I'd like to be a data scientist "
   ]
  },
  {
   "cell_type": "markdown",
   "metadata": {},
   "source": [
    "## <p><i>I'm interested in data science because it can help you gain insights about many things and take corrective actions if needed thanks to data.</i></p>"
   ]
  },
  {
   "cell_type": "markdown",
   "metadata": {
    "tags": []
   },
   "source": [
    "## <H3> Cell five: code that executes and displays an output.</H3>"
   ]
  },
  {
   "cell_type": "code",
   "execution_count": 2,
   "metadata": {},
   "outputs": [
    {
     "name": "stdout",
     "output_type": "stream",
     "text": [
      "Hello world, how much is 3+3?\n",
      "6\n"
     ]
    }
   ],
   "source": [
    "print (\"Hello world, how much is 3+3?\")\n",
    "print (3+3)"
   ]
  },
  {
   "cell_type": "markdown",
   "metadata": {},
   "source": [
    "## Hello everybody <hr>\n",
    "<ul>\n",
    "  <li>How</li>\n",
    "  <li>are</li>\n",
    "  <li>You</li>\n",
    "</ul>\n",
    "\n",
    "<ol>\n",
    "  <li>I</li>\n",
    "  <li>Am good</li>\n",
    "  <li>Thanks</li>\n",
    "</ol>\n",
    "\n",
    "| Interesting | To | Know |\n",
    "| --- | --- | --- |\n",
    "| Yes | That's | Right |"
   ]
  },
  {
   "cell_type": "code",
   "execution_count": null,
   "metadata": {},
   "outputs": [],
   "source": []
  }
 ],
 "metadata": {
  "kernelspec": {
   "display_name": "Python",
   "language": "python",
   "name": "conda-env-python-py"
  },
  "language_info": {
   "codemirror_mode": {
    "name": "ipython",
    "version": 3
   },
   "file_extension": ".py",
   "mimetype": "text/x-python",
   "name": "python",
   "nbconvert_exporter": "python",
   "pygments_lexer": "ipython3",
   "version": "3.7.12"
  }
 },
 "nbformat": 4,
 "nbformat_minor": 4
}
